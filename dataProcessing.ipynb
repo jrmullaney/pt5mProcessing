{
 "cells": [
  {
   "cell_type": "markdown",
   "metadata": {},
   "source": [
    "# Image calibration, alignment and combination."
   ]
  },
  {
   "cell_type": "markdown",
   "metadata": {},
   "source": [
    "## Packages\n",
    "First, import some basic packages:"
   ]
  },
  {
   "cell_type": "code",
   "execution_count": 1,
   "metadata": {},
   "outputs": [],
   "source": [
    "import os.path\n",
    "import glob\n",
    "from pathlib import Path\n",
    "\n",
    "import numpy as np\n",
    "import pandas as pd\n",
    "\n",
    "from astropy.io import fits"
   ]
  },
  {
   "cell_type": "markdown",
   "metadata": {},
   "source": [
    "## Date, Object and filter definitions\n",
    "These are used to define file paths."
   ]
  },
  {
   "cell_type": "code",
   "execution_count": 2,
   "metadata": {},
   "outputs": [],
   "source": [
    "obj = 'NGC5949'\n",
    "filter = 'R'"
   ]
  },
  {
   "cell_type": "markdown",
   "metadata": {},
   "source": [
    "# Instrument signature removal"
   ]
  },
  {
   "cell_type": "markdown",
   "metadata": {},
   "source": [
    "Read in the calibration frames, subtract the bias from each science frame and divide by the flat. \n",
    "\n",
    "The flat is already bias-subtracted."
   ]
  },
  {
   "cell_type": "code",
   "execution_count": 3,
   "metadata": {},
   "outputs": [
    {
     "data": {
      "text/plain": [
       "['processed/NGC5949/R/raws/r0743053.fits',\n",
       " 'processed/NGC5949/R/raws/r0743054.fits',\n",
       " 'processed/NGC5949/R/raws/r0743055.fits']"
      ]
     },
     "execution_count": 3,
     "metadata": {},
     "output_type": "execute_result"
    }
   ],
   "source": [
    "# Get list of raw science frames:\n",
    "scifiles = glob.glob(os.path.join('processed',obj,filter,'raws','*.fits'))\n",
    "\n",
    "# And check them:\n",
    "scifiles"
   ]
  },
  {
   "cell_type": "code",
   "execution_count": 4,
   "metadata": {},
   "outputs": [],
   "source": [
    "# First, create the directory to put the calibrated data in:\n",
    "Path(os.path.join('processed',obj,filter,'postISR')).mkdir(parents=True, exist_ok=True)\n",
    "\n",
    "# Read in the bias and flat frames:\n",
    "bias = fits.open(os.path.join('calibs','bias2x2.fits'))\n",
    "flat = fits.open(os.path.join('calibs',filter+'flatnorm2x2.fits'))\n",
    "\n",
    "for scifile in scifiles:\n",
    "    sci = fits.open(scifile)\n",
    "    data = sci[0].data.astype('f8')\n",
    "    header = sci[0].header\n",
    "    gain = header['EGAIN']\n",
    "    \n",
    "    # Bias correct:\n",
    "    data = data - bias[0].data\n",
    "    data = data * gain\n",
    "    \n",
    "    # Create variance frame:\n",
    "    var = np.copy(data)\n",
    "    \n",
    "    # Flat field\n",
    "    data = data / flat[0].data\n",
    "\n",
    "    # Correct for atmospheric extinction\n",
    "    ext_per_airmass = 0.0547 # At 6550 Ang\n",
    "    airmass = header['AIRMASS']\n",
    "    mags_of_ext = ext_per_airmass * airmass\n",
    "    intrinsic = data * (10.**(mags_of_ext / 2.5))\n",
    "\n",
    "    # Write to files:\n",
    "    newpath = os.path.join('processed',obj,filter,'postISR',os.path.basename(scifile))\n",
    "    hdu_sci = fits.PrimaryHDU(data, header=header)\n",
    "    hdu_var = fits.ImageHDU(var, header=header)\n",
    "    hdul = fits.HDUList([hdu_sci, hdu_var])\n",
    "\n",
    "    hdul.writeto(newpath, overwrite=True)"
   ]
  },
  {
   "cell_type": "markdown",
   "metadata": {},
   "source": [
    "## Align the images\n",
    "The images need to be aligned prior to being combined. To do this, you need to enter the (x,y) coordinates of the same star in each of your images into a file named xy.csv in your sci directory. The file should contain three columns, comma separated, and look like this (with exactly this header line):\n",
    "| fname, x, y |\n",
    "| --- |\n",
    "| r0123456, 252, 328 |\n",
    "| r0123457, 251, 329 |\n",
    "| r0123458, 250, 330 |\n",
    "\n"
   ]
  },
  {
   "cell_type": "code",
   "execution_count": 5,
   "metadata": {},
   "outputs": [],
   "source": [
    "# First, create the directory to put the aligned images in:\n",
    "Path(os.path.join('processed',obj,filter,'shifted')).mkdir(parents=True, exist_ok=True)\n",
    "\n",
    "# Read in (x,y) of star positions.\n",
    "xys = pd.read_csv(os.path.join('xys',obj,filter,'xy.csv'))\n",
    "fnames = xys['fname'].values\n",
    "for i, fname in enumerate(fnames):\n",
    "    hdu = fits.open(os.path.join('processed',obj,filter,'postISR',fname+'.fits'))\n",
    "    header = hdu[0].header\n",
    "    \n",
    "    #Use the first frame in the list as a reference:\n",
    "    sci = hdu[0].data.astype('f8')\n",
    "    var = hdu[1].data.astype('f8')\n",
    "    ind = fnames == fname\n",
    "    \n",
    "    if i == 0:\n",
    "        xyref = xys[ind]\n",
    "        xref = xyref['x'].values\n",
    "        yref = xyref['y'].values\n",
    "        \n",
    "        hdu_sci = fits.PrimaryHDU(sci, header=header)\n",
    "        hdu_var = fits.ImageHDU(var, header=header)\n",
    "        hdul = fits.HDUList([hdu_sci, hdu_var])\n",
    "\n",
    "    else:\n",
    "        xyval = xys[ind]\n",
    "        xval = xyval['x'].values\n",
    "        yval = xyval['y'].values\n",
    "    \n",
    "        xdiff = xref - xval\n",
    "        ydiff = yref - yval\n",
    "\n",
    "        shiftedsci = np.roll(sci,xdiff, axis=1)\n",
    "        shiftedsci = np.roll(shiftedsci,ydiff, axis=0)\n",
    "        \n",
    "        shiftedvar = np.roll(var,xdiff, axis=1)\n",
    "        shiftedvar = np.roll(shiftedvar,ydiff, axis=0)\n",
    "        \n",
    "        hdu_sci = fits.PrimaryHDU(shiftedsci, header=header)\n",
    "        hdu_var = fits.ImageHDU(shiftedvar, header=header)\n",
    "        hdul = fits.HDUList([hdu_sci, hdu_var])\n",
    "    \n",
    "    newpath = os.path.join('processed',obj,filter,'shifted',fname+'.fits')\n",
    "    hdul.writeto(newpath, overwrite=True)\n",
    "    "
   ]
  },
  {
   "cell_type": "markdown",
   "metadata": {},
   "source": [
    "## Median combine the images\n",
    "We median-combine the image to get rid of hot pixels since, after alignment, they are unlikely to have the same x,y coordinates."
   ]
  },
  {
   "cell_type": "code",
   "execution_count": 6,
   "metadata": {},
   "outputs": [
    {
     "name": "stdout",
     "output_type": "stream",
     "text": [
      "processed/NGC5949/R/shifted/r0743053.fits\n",
      "processed/NGC5949/R/shifted/r0743054.fits\n",
      "processed/NGC5949/R/shifted/r0743055.fits\n"
     ]
    }
   ],
   "source": [
    "# First, create the directory to put the combined images in:\n",
    "Path(os.path.join('processed',obj,filter,'combined')).mkdir(parents=True, exist_ok=True)\n",
    "\n",
    "# Read in the aligned images\n",
    "scifiles = glob.glob(os.path.join('processed',obj,filter,'shifted','*.fits'))\n",
    "nfiles = len(scifiles)\n",
    "\n",
    "#Create an array to hold the frames:\n",
    "hdu = fits.open(scifiles[0])\n",
    "sci = hdu[0].data.astype('f8')\n",
    "header = hdu[0].header\n",
    "\n",
    "shape = np.shape(sci)\n",
    "scistack = np.zeros((shape[0],shape[1],nfiles))\n",
    "varstack = np.zeros((shape[0],shape[1],nfiles))\n",
    "\n",
    "for i,scifile in enumerate(scifiles):\n",
    "    print(scifile)\n",
    "    hdu = fits.open(scifile)\n",
    "    \n",
    "    sci = hdu[0].data.astype('f8')\n",
    "    var = hdu[1].data.astype('f8')\n",
    "    \n",
    "    scistack[:,:,i] = sci\n",
    "    varstack[:,:,i] = var\n",
    "    \n",
    "scicombined = np.median(scistack,2)\n",
    "varcombined = np.median(varstack,2) / nfiles\n",
    "\n",
    "hdu_sci = fits.PrimaryHDU(scicombined, header=header)\n",
    "hdu_var = fits.ImageHDU(varcombined, header=header)\n",
    "hdul = fits.HDUList([hdu_sci, hdu_var])\n",
    "\n",
    "newpath = os.path.join('processed',obj,filter,'combined','combined.fits')\n",
    "hdul.writeto(newpath, overwrite=True)"
   ]
  },
  {
   "cell_type": "code",
   "execution_count": 7,
   "metadata": {},
   "outputs": [],
   "source": [
    "himage = os.path.join('processed',obj,'H','combined')"
   ]
  },
  {
   "cell_type": "code",
   "execution_count": 10,
   "metadata": {},
   "outputs": [
    {
     "name": "stdout",
     "output_type": "stream",
     "text": [
      "22821.310206385726\n"
     ]
    }
   ],
   "source": [
    "mags_of_ext = 0.0547 * 1.72\n",
    "print(20927 * 10.**(mags_of_ext / 2.5))"
   ]
  },
  {
   "cell_type": "code",
   "execution_count": null,
   "metadata": {},
   "outputs": [],
   "source": []
  }
 ],
 "metadata": {
  "kernelspec": {
   "display_name": "Python 3 (ipykernel)",
   "language": "python",
   "name": "python3"
  },
  "language_info": {
   "codemirror_mode": {
    "name": "ipython",
    "version": 3
   },
   "file_extension": ".py",
   "mimetype": "text/x-python",
   "name": "python",
   "nbconvert_exporter": "python",
   "pygments_lexer": "ipython3",
   "version": "3.11.0"
  }
 },
 "nbformat": 4,
 "nbformat_minor": 4
}
