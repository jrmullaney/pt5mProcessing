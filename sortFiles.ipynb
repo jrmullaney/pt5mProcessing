{
 "cells": [
  {
   "cell_type": "code",
   "execution_count": 1,
   "id": "9100ac85-99e4-47d1-a9ad-8830115319de",
   "metadata": {},
   "outputs": [],
   "source": [
    "import glob\n",
    "import os\n",
    "from astropy.io.fits import getheader"
   ]
  },
  {
   "cell_type": "code",
   "execution_count": 2,
   "id": "a596219b-b680-4950-ae84-a1cdf3720230",
   "metadata": {},
   "outputs": [
    {
     "name": "stdout",
     "output_type": "stream",
     "text": [
      "/Users/Home/Documents/Work/Teaching/PHY319/2023\n"
     ]
    }
   ],
   "source": [
    "date = '2023-06-23'\n",
    "cwd = os.getcwd()\n",
    "print(cwd)\n",
    "raws = glob.glob(os.path.join(cwd,'raws',date,'*.fits'))"
   ]
  },
  {
   "cell_type": "code",
   "execution_count": 4,
   "id": "d14494ab-a812-400b-8fe7-ed087b752374",
   "metadata": {},
   "outputs": [],
   "source": [
    "for raw in raws:\n",
    "    hdr = getheader(raw)\n",
    "    object = hdr['OBJECT'].replace(' ','')\n",
    "    filter = hdr['FILTER'].replace(' ','')\n",
    "\n",
    "    dirName = os.path.join('processed',object,filter,'raws')\n",
    "    dirExists = os.path.isdir(dirName)\n",
    "    if not dirExists:\n",
    "        os.makedirs(dirName)\n",
    "\n",
    "    linkName = os.path.join(dirName,os.path.basename(raw))\n",
    "    linkExists = os.path.isfile(linkName)\n",
    "    \n",
    "    if not linkExists:\n",
    "        os.symlink(raw, os.path.join(dirName,os.path.basename(raw)))"
   ]
  },
  {
   "cell_type": "code",
   "execution_count": null,
   "id": "362a4207-c2bf-4e25-920d-0160e7b10728",
   "metadata": {},
   "outputs": [],
   "source": []
  }
 ],
 "metadata": {
  "kernelspec": {
   "display_name": "Python 3 (ipykernel)",
   "language": "python",
   "name": "python3"
  },
  "language_info": {
   "codemirror_mode": {
    "name": "ipython",
    "version": 3
   },
   "file_extension": ".py",
   "mimetype": "text/x-python",
   "name": "python",
   "nbconvert_exporter": "python",
   "pygments_lexer": "ipython3",
   "version": "3.11.0"
  }
 },
 "nbformat": 4,
 "nbformat_minor": 5
}
