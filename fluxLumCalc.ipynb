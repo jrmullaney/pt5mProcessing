{
 "cells": [
  {
   "cell_type": "code",
   "execution_count": 1,
   "id": "982ca14a-978f-416e-ac38-3eaaab3d73ef",
   "metadata": {},
   "outputs": [],
   "source": [
    "import os.path\n",
    "\n",
    "import numpy as np\n",
    "import pandas as pd"
   ]
  },
  {
   "cell_type": "code",
   "execution_count": 2,
   "id": "7c4891ad-bbe3-4188-b6b2-1a2cac441763",
   "metadata": {},
   "outputs": [],
   "source": [
    "obj = 'NGC5238'"
   ]
  },
  {
   "cell_type": "code",
   "execution_count": 3,
   "id": "229fffc0-f502-49c8-bb7c-ddd5e747c913",
   "metadata": {},
   "outputs": [],
   "source": [
    "paramFile = os.path.join('processingParams',obj+'.csv')\n",
    "params = pd.read_csv(paramFile)\n",
    "\n",
    "ctrtFile = os.path.join('processed',obj,'H','combined','CountRate.csv')\n",
    "df = pd.read_csv(ctrtFile)\n",
    "ctrt = df['CountRate'].values[0]\n",
    "ctrt_err = df['CountRate_Err'].values[0]"
   ]
  },
  {
   "cell_type": "code",
   "execution_count": 4,
   "id": "954dc91a-55d4-4af6-abfc-7de7a04bec42",
   "metadata": {},
   "outputs": [
    {
     "name": "stdout",
     "output_type": "stream",
     "text": [
      "Lum. Ha: 5.592639518872043e+40 3.2202904658094953e+38\n",
      "SFR: 0.44386027927555893 0.00255578608397579\n"
     ]
    }
   ],
   "source": [
    "# Flux calibration\n",
    "M57_FHa = 2.75e-10 # erg/s/cm2\n",
    "M57_ctrt = 22821.\n",
    "\n",
    "FHa_per_ctrt = M57_FHa / M57_ctrt\n",
    "\n",
    "FHa = ctrt * FHa_per_ctrt\n",
    "FHa_err = ctrt_err * FHa_per_ctrt\n",
    "\n",
    "dist_mpc = params.value[params.param == 'scale'].values[0]\n",
    "dist_cm = dist_mpc * 3.086e24\n",
    "dist_cm2 = dist_cm ** 2.\n",
    "sarea = 4 * np.pi * dist_cm2\n",
    "\n",
    "LHa = FHa * sarea\n",
    "LHa_err = FHa_err * sarea\n",
    "print('Lum. Ha:', LHa, LHa_err)\n",
    "\n",
    "SFR = LHa / 1.26e41\n",
    "SFR_err = LHa_err / 1.26e41\n",
    "\n",
    "print('SFR:', SFR, SFR_err)"
   ]
  },
  {
   "cell_type": "code",
   "execution_count": null,
   "id": "5882d9a0-c781-427a-9fb3-e7a54fddcb79",
   "metadata": {},
   "outputs": [],
   "source": []
  }
 ],
 "metadata": {
  "kernelspec": {
   "display_name": "Python 3 (ipykernel)",
   "language": "python",
   "name": "python3"
  },
  "language_info": {
   "codemirror_mode": {
    "name": "ipython",
    "version": 3
   },
   "file_extension": ".py",
   "mimetype": "text/x-python",
   "name": "python",
   "nbconvert_exporter": "python",
   "pygments_lexer": "ipython3",
   "version": "3.11.0"
  }
 },
 "nbformat": 4,
 "nbformat_minor": 5
}
